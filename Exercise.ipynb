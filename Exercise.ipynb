{
 "cells": [
  {
   "cell_type": "markdown",
   "metadata": {},
   "source": [
    "# List Overlap \n",
    "Write a program that returns a list that contains only the elements that are common between the lists (without duplicates). Make sure your program works on two lists of different sizes."
   ]
  },
  {
   "cell_type": "code",
   "execution_count": 2,
   "metadata": {},
   "outputs": [
    {
     "name": "stdout",
     "output_type": "stream",
     "text": [
      "[1, 2, 3, 5, 8, 13]\n"
     ]
    }
   ],
   "source": [
    "a = [1, 1, 2, 3, 5, 8, 13, 21, 34, 55, 89]\n",
    "b = [1, 2, 3, 4, 5, 6, 7, 8, 9, 10, 11, 12, 13]\n",
    "\n",
    "def compare(list1,list2):\n",
    "    if len(list1)==0 or len(list2)==0:\n",
    "        return []\n",
    "    list3=[]\n",
    "    for i in range(len(list1)):\n",
    "        for j in range(len(list2)):\n",
    "            if list1[i]==list2[j] and list1[i] not in list3:\n",
    "                list3.append(list1[i])\n",
    "                break\n",
    "    return list3\n",
    "print(compare(a,b))"
   ]
  },
  {
   "cell_type": "markdown",
   "metadata": {},
   "source": [
    "# Rock Paper Scissors\n",
    "\n",
    "Make a two-player Rock-Paper-Scissors game. (Hint: Ask for player plays (using input), compare them, print out a message of congratulations to the winner.)\n",
    "\n",
    "Remember the rules:\n",
    "\n",
    "* Rock beats scissors\n",
    "* Scissors beats paper\n",
    "* Paper beats rock"
   ]
  },
  {
   "cell_type": "code",
   "execution_count": 4,
   "metadata": {},
   "outputs": [
    {
     "name": "stdout",
     "output_type": "stream",
     "text": [
      "1 for Rock, 2 for Paper of 3 for Scissors for player 1: 2\n",
      "1 for Rock, 2 for Paper of 3 for Scissors for player 2: 2\n",
      "Its a Tie\n"
     ]
    }
   ],
   "source": [
    "player1=int(input(\"1 for Rock, 2 for Paper of 3 for Scissors for player 1: \"))\n",
    "player2=int(input(\"1 for Rock, 2 for Paper of 3 for Scissors for player 2: \"))\n",
    "\n",
    "def game(p1,p2):\n",
    "    if p1==p2:\n",
    "        print(\"Its a Tie\")\n",
    "    elif p1==1 and p2==2:\n",
    "        print(\"player 2 wins\")\n",
    "    elif p1==1 and p2==3:\n",
    "        print(\"player 1 wins\")\n",
    "    elif p1==2 and p2==1:\n",
    "        print(\"player 1 wins\")\n",
    "    elif p1==2 and p2==3:\n",
    "        print(\"player 2 wins\")\n",
    "    elif p1==3 and p2==1:\n",
    "        print(\"player 2 wins\")\n",
    "    elif p1==3 and p2==2:\n",
    "        print(\"player 1 wins\")\n",
    "    \n",
    "game(player1,player2)"
   ]
  },
  {
   "cell_type": "markdown",
   "metadata": {},
   "source": [
    "# Palindrome \n",
    "\n",
    "Ask the user for a string and print out whether this string is a palindrome or not. (A palindrome is a string that reads the same forwards and backwards.)"
   ]
  },
  {
   "cell_type": "code",
   "execution_count": 2,
   "metadata": {},
   "outputs": [
    {
     "name": "stdout",
     "output_type": "stream",
     "text": [
      "Enter a word: GETEG\n",
      "it's a palindrome\n"
     ]
    }
   ],
   "source": [
    "word=input(\"Enter a word: \")\n",
    "\n",
    "for i in range(len(word)):\n",
    "    if word[i]!=word[len(word)-1-i]:\n",
    "        print(\"not a palindrome\")\n",
    "        break\n",
    "    if i==len(word)-1:\n",
    "        print(\"it's a palindrome\")\n"
   ]
  },
  {
   "cell_type": "markdown",
   "metadata": {},
   "source": [
    "# Password Generator\n",
    "Write a password generator in Python. Be creative with how you generate passwords - strong passwords have a mix of lowercase letters, uppercase letters, numbers, and symbols. The passwords should be random.  Ask the user to input how long they want their password to be. "
   ]
  },
  {
   "cell_type": "code",
   "execution_count": 1,
   "metadata": {},
   "outputs": [
    {
     "name": "stdout",
     "output_type": "stream",
     "text": [
      "How long do you want your password to be: 14\n",
      "batLMYzk1Aj$e0\n"
     ]
    }
   ],
   "source": [
    "import random\n",
    "chars = \"abcdefghijklmnopqrstuvwxyz01234567890ABCDEFGHIJKLMNOPQRSTUVWXYZ!@#$%^&*()?\"\n",
    "\n",
    "length=int(input(\"How long do you want your password to be: \"))\n",
    "\n",
    "password=[]\n",
    "charlength=len(chars)\n",
    "\n",
    "while len(password)!=length:\n",
    "    random_number=random.randint(0,charlength-1)\n",
    "    password.append(chars[random_number])\n",
    "    if len(password)==length:\n",
    "        break\n",
    "    if random_number==len(chars):\n",
    "        chars=chars[0:random_number-1]\n",
    "    else:\n",
    "        chars=chars[0:random_number]+chars[random_number+1:len(chars)]\n",
    "    charlength=len(chars)\n",
    "        \n",
    "final_password=\"\"\n",
    "\n",
    "for i in password:\n",
    "    final_password+=i\n",
    "print(final_password)\n",
    "\n",
    "#Im assuming that every character in the password is unique "
   ]
  },
  {
   "cell_type": "markdown",
   "metadata": {},
   "source": [
    "# Divisors Solutions\n",
    "\n",
    "Create a program that asks the user for a number and then prints out a list of all the divisors of that number. (If you don’t know what a divisor is, it is a number that divides evenly into another number. For example, 13 is a divisor of 26 because 26 / 13 has no remainder.)"
   ]
  },
  {
   "cell_type": "code",
   "execution_count": 3,
   "metadata": {},
   "outputs": [
    {
     "name": "stdout",
     "output_type": "stream",
     "text": [
      "Enter a number26\n",
      "1\n",
      "2\n",
      "13\n"
     ]
    }
   ],
   "source": [
    "number=int(input(\"Enter a number\"))\n",
    "\n",
    "for i in range(1,number):\n",
    "    if number%i==0:\n",
    "        print(i)\n"
   ]
  },
  {
   "cell_type": "markdown",
   "metadata": {},
   "source": [
    "# Missing Character\n",
    "Given a non-empty string and an int n, return a new string where the char at index n has been removed. The value of n will be a valid index of a char in the original string (i.e. n will be in the range 0..len(str)-1 inclusive).\n",
    "\n",
    "```\n",
    "missing_char('kitten', 1) → 'ktten'\n",
    "missing_char('kitten', 0) → 'itten'\n",
    "missing_char('kitten', 4) → 'kittn'\n",
    "\n",
    "```"
   ]
  },
  {
   "cell_type": "code",
   "execution_count": 17,
   "metadata": {},
   "outputs": [
    {
     "data": {
      "text/plain": [
       "'kittn'"
      ]
     },
     "execution_count": 17,
     "metadata": {},
     "output_type": "execute_result"
    }
   ],
   "source": [
    "def missing_char(word, n):\n",
    "    if n==0:\n",
    "        word=word[1:len(word)]\n",
    "    elif n==len(word)-1:\n",
    "        word=word[0:len(word)-1]\n",
    "    elif n>0 and n<len(word)-1:\n",
    "        word=word[0:n]+word[n+1:len(word)]\n",
    "    return(word)\n",
    "\n",
    "missing_char(\"kitten\",4)\n"
   ]
  },
  {
   "cell_type": "markdown",
   "metadata": {},
   "source": [
    "# Centered Average\n",
    "\n",
    "Return the \"centered\" average of an array of ints, which we'll say is the mean average of the values, except ignoring the largest and smallest values in the array. If there are multiple copies of the smallest value, ignore just one copy, and likewise for the largest value.  You may assume that the array is length 3 or more and will never contain negative values. \n",
    "* Round your answer to the nearest whole number.\n",
    "\n",
    "```\n",
    "centered_average([1, 2, 3, 4, 100]) → 3\n",
    "centered_average([1, 1, 5, 5, 10, 8, 7]) → 5\n",
    "```"
   ]
  },
  {
   "cell_type": "code",
   "execution_count": 18,
   "metadata": {},
   "outputs": [
    {
     "name": "stdout",
     "output_type": "stream",
     "text": [
      "37.5\n"
     ]
    }
   ],
   "source": [
    "example_list = [100, 100, 50, 75, 50, 25, 25, 25]\n",
    "if len(example_list)%2==1:\n",
    "    print(example_list[int(len(example_list)/2)+1])\n",
    "else:\n",
    "    print(((example_list[int(len(example_list)/2)+1])+(example_list[int(len(example_list)/2)]))/2)\n",
    "#instructions for this one were a bit unclear so i am unsure if i did this one as required"
   ]
  },
  {
   "cell_type": "code",
   "execution_count": null,
   "metadata": {},
   "outputs": [],
   "source": []
  }
 ],
 "metadata": {
  "kernelspec": {
   "display_name": "Python 3 (ipykernel)",
   "language": "python",
   "name": "python3"
  },
  "language_info": {
   "codemirror_mode": {
    "name": "ipython",
    "version": 3
   },
   "file_extension": ".py",
   "mimetype": "text/x-python",
   "name": "python",
   "nbconvert_exporter": "python",
   "pygments_lexer": "ipython3",
   "version": "3.9.12"
  }
 },
 "nbformat": 4,
 "nbformat_minor": 4
}
